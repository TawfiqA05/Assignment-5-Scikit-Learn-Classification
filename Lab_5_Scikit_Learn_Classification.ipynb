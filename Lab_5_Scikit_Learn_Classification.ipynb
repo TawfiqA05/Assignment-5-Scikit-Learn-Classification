{
 "cells": [
  {
   "cell_type": "markdown",
   "id": "4997795d",
   "metadata": {},
   "source": [
    "# Lab 6: Sklearn Classification\n",
    "In this lab, we'll be reviewing the creation and implementation of various classification models using the scikit-learn library in Python.\n",
    "\n",
    "## Prompt\n",
    "Use your knowledge of different scikit learn functions to accomplish the listed tasks."
   ]
  },
  {
   "cell_type": "markdown",
   "id": "437a3d05",
   "metadata": {},
   "source": [
    "1. Load the iris dataset."
   ]
  },
  {
   "cell_type": "code",
   "execution_count": null,
   "id": "afd82376",
   "metadata": {},
   "outputs": [],
   "source": [
    "from sklearn.datasets import load_iris\n",
    "\n",
    "iris = load_iris()\n",
    "X, y = iris.data, iris.target"
   ]
  },
  {
   "cell_type": "markdown",
   "id": "f9d669d4",
   "metadata": {},
   "source": [
    "2. Print the description of the dataset."
   ]
  },
  {
   "cell_type": "code",
   "execution_count": null,
   "id": "6ac55035",
   "metadata": {},
   "outputs": [],
   "source": [
    "print(iris.DESCR)"
   ]
  },
  {
   "cell_type": "markdown",
   "id": "5e578b48",
   "metadata": {},
   "source": [
    "3. Print the number of features as well the names of those features."
   ]
  },
  {
   "cell_type": "code",
   "execution_count": null,
   "id": "3f3165a9",
   "metadata": {},
   "outputs": [],
   "source": [
    "print(len(iris.feature_names))\n",
    "print(iris.feature_names)"
   ]
  },
  {
   "cell_type": "markdown",
   "id": "6d51ed5b",
   "metadata": {},
   "source": [
    "4. Load the data and the lable from the data sets."
   ]
  },
  {
   "cell_type": "code",
   "execution_count": null,
   "id": "609fbc54",
   "metadata": {},
   "outputs": [],
   "source": [
    "X, y = iris.data, iris.target"
   ]
  },
  {
   "cell_type": "markdown",
   "id": "f29cfeee",
   "metadata": {},
   "source": [
    "5. Randomly split the data into 80% training and 20% testing, including the labels."
   ]
  },
  {
   "cell_type": "code",
   "execution_count": null,
   "id": "a70aef9d",
   "metadata": {},
   "outputs": [],
   "source": [
    "from sklearn.model_selection import train_test_split\n",
    "\n",
    "X_train, X_test, y_train, y_test = train_test_split(X, y, test_size=0.2, random_state=42)"
   ]
  },
  {
   "cell_type": "markdown",
   "id": "21ddde38",
   "metadata": {},
   "source": [
    "6. Create a support vector machines classification model. Train the model using the training data and labels."
   ]
  },
  {
   "cell_type": "code",
   "execution_count": null,
   "id": "f8ebeacc",
   "metadata": {},
   "outputs": [],
   "source": [
    "from sklearn.svm import SVC\n",
    "\n",
    "svm_model = SVC()\n",
    "svm_model.fit(X_train, y_train)"
   ]
  },
  {
   "cell_type": "markdown",
   "id": "6ae4eab2",
   "metadata": {},
   "source": [
    "7. Create a decision tree classifier model. Train the model using the training data and labels."
   ]
  },
  {
   "cell_type": "code",
   "execution_count": null,
   "id": "163bc5f8",
   "metadata": {},
   "outputs": [],
   "source": [
    "from sklearn.tree import DecisionTreeClassifier\n",
    "\n",
    "dt_model = DecisionTreeClassifier()\n",
    "dt_model.fit(X_train, y_train)"
   ]
  },
  {
   "cell_type": "markdown",
   "id": "27ee5042",
   "metadata": {},
   "source": [
    "8. Create a confusion matrix using your decision model."
   ]
  },
  {
   "cell_type": "code",
   "execution_count": null,
   "id": "561d6a31",
   "metadata": {},
   "outputs": [],
   "source": [
    "from sklearn.metrics import confusion_matrix\n",
    "\n",
    "y_pred = dt_model.predict(X_test)\n",
    "conf_matrix = confusion_matrix(y_test, y_pred)\n",
    "\n",
    "print(conf_matrix)"
   ]
  },
  {
   "cell_type": "markdown",
   "id": "a3a1c295",
   "metadata": {},
   "source": [
    "9. Calculate the accuracy score, precision score, and recall score for your model."
   ]
  },
  {
   "cell_type": "code",
   "execution_count": null,
   "id": "58c58a01",
   "metadata": {},
   "outputs": [],
   "source": [
    "from sklearn.metrics import accuracy_score, precision_score, recall_score\n",
    "\n",
    "accuracy = accuracy_score(y_test, y_pred)\n",
    "precision = precision_score(y_test, y_pred, average='weighted')\n",
    "recall = recall_score(y_test, y_pred, average='weighted')\n",
    "\n",
    "print(accuracy)\n",
    "print(precision)\n",
    "print(recall)"
   ]
  },
  {
   "cell_type": "markdown",
   "id": "66f94e95",
   "metadata": {},
   "source": [
    "10. Generate a list of the feature importances for your model. Provide a brief explanation of your results."
   ]
  },
  {
   "cell_type": "code",
   "execution_count": null,
   "id": "023810e4",
   "metadata": {},
   "outputs": [],
   "source": [
    "feature_importances = dt_model.feature_importances_\n",
    "\n",
    "print(feature_importances)"
   ]
  }
 ],
 "metadata": {
  "kernelspec": {
   "display_name": "Python 3 (ipykernel)",
   "language": "python",
   "name": "python3"
  },
  "language_info": {
   "codemirror_mode": {
    "name": "ipython",
    "version": 3
   },
   "file_extension": ".py",
   "mimetype": "text/x-python",
   "name": "python",
   "nbconvert_exporter": "python",
   "pygments_lexer": "ipython3",
   "version": "3.9.17"
  }
 },
 "nbformat": 4,
 "nbformat_minor": 5
}
